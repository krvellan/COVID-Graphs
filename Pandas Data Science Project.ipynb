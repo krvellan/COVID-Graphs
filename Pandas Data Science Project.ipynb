{
 "cells": [
  {
   "cell_type": "code",
   "execution_count": 4,
   "id": "e3579552",
   "metadata": {},
   "outputs": [],
   "source": [
    "import pandas as pd \n",
    "import os \n",
    "import urllib \n",
    "%matplotlib inline"
   ]
  },
  {
   "cell_type": "code",
   "execution_count": 5,
   "id": "c2d2a1e2",
   "metadata": {},
   "outputs": [],
   "source": [
    "url = \"https://covid19.who.int/WHO-COVID-19-global-data.csv\"\n",
    "file_path = os.path.join(\"data\",\"covid\")"
   ]
  },
  {
   "cell_type": "code",
   "execution_count": 6,
   "id": "ced27096",
   "metadata": {},
   "outputs": [
    {
     "data": {
      "text/plain": [
       "('data/covid/WHO-COVID-19-global-data.csv',\n",
       " <http.client.HTTPMessage at 0x7fe5be2f4ac0>)"
      ]
     },
     "execution_count": 6,
     "metadata": {},
     "output_type": "execute_result"
    }
   ],
   "source": [
    "os.makedirs(file_path, exist_ok=True)\n",
    "csv_path = os.path.join(file_path,\"WHO-COVID-19-global-data.csv\")\n",
    "urllib.request.urlretrieve(url,csv_path)"
   ]
  },
  {
   "cell_type": "code",
   "execution_count": 7,
   "id": "7ac7fe61",
   "metadata": {},
   "outputs": [],
   "source": [
    "df = pd.read_csv(csv_path)"
   ]
  },
  {
   "cell_type": "code",
   "execution_count": 8,
   "id": "0990426e",
   "metadata": {},
   "outputs": [
    {
     "data": {
      "text/html": [
       "<div>\n",
       "<style scoped>\n",
       "    .dataframe tbody tr th:only-of-type {\n",
       "        vertical-align: middle;\n",
       "    }\n",
       "\n",
       "    .dataframe tbody tr th {\n",
       "        vertical-align: top;\n",
       "    }\n",
       "\n",
       "    .dataframe thead th {\n",
       "        text-align: right;\n",
       "    }\n",
       "</style>\n",
       "<table border=\"1\" class=\"dataframe\">\n",
       "  <thead>\n",
       "    <tr style=\"text-align: right;\">\n",
       "      <th></th>\n",
       "      <th>Date_reported</th>\n",
       "      <th>Country_code</th>\n",
       "      <th>Country</th>\n",
       "      <th>WHO_region</th>\n",
       "      <th>New_cases</th>\n",
       "      <th>Cumulative_cases</th>\n",
       "      <th>New_deaths</th>\n",
       "      <th>Cumulative_deaths</th>\n",
       "    </tr>\n",
       "  </thead>\n",
       "  <tbody>\n",
       "    <tr>\n",
       "      <th>0</th>\n",
       "      <td>2020-01-03</td>\n",
       "      <td>AF</td>\n",
       "      <td>Afghanistan</td>\n",
       "      <td>EMRO</td>\n",
       "      <td>0</td>\n",
       "      <td>0</td>\n",
       "      <td>0</td>\n",
       "      <td>0</td>\n",
       "    </tr>\n",
       "    <tr>\n",
       "      <th>1</th>\n",
       "      <td>2020-01-04</td>\n",
       "      <td>AF</td>\n",
       "      <td>Afghanistan</td>\n",
       "      <td>EMRO</td>\n",
       "      <td>0</td>\n",
       "      <td>0</td>\n",
       "      <td>0</td>\n",
       "      <td>0</td>\n",
       "    </tr>\n",
       "    <tr>\n",
       "      <th>2</th>\n",
       "      <td>2020-01-05</td>\n",
       "      <td>AF</td>\n",
       "      <td>Afghanistan</td>\n",
       "      <td>EMRO</td>\n",
       "      <td>0</td>\n",
       "      <td>0</td>\n",
       "      <td>0</td>\n",
       "      <td>0</td>\n",
       "    </tr>\n",
       "    <tr>\n",
       "      <th>3</th>\n",
       "      <td>2020-01-06</td>\n",
       "      <td>AF</td>\n",
       "      <td>Afghanistan</td>\n",
       "      <td>EMRO</td>\n",
       "      <td>0</td>\n",
       "      <td>0</td>\n",
       "      <td>0</td>\n",
       "      <td>0</td>\n",
       "    </tr>\n",
       "    <tr>\n",
       "      <th>4</th>\n",
       "      <td>2020-01-07</td>\n",
       "      <td>AF</td>\n",
       "      <td>Afghanistan</td>\n",
       "      <td>EMRO</td>\n",
       "      <td>0</td>\n",
       "      <td>0</td>\n",
       "      <td>0</td>\n",
       "      <td>0</td>\n",
       "    </tr>\n",
       "    <tr>\n",
       "      <th>...</th>\n",
       "      <td>...</td>\n",
       "      <td>...</td>\n",
       "      <td>...</td>\n",
       "      <td>...</td>\n",
       "      <td>...</td>\n",
       "      <td>...</td>\n",
       "      <td>...</td>\n",
       "      <td>...</td>\n",
       "    </tr>\n",
       "    <tr>\n",
       "      <th>141958</th>\n",
       "      <td>2021-08-19</td>\n",
       "      <td>ZW</td>\n",
       "      <td>Zimbabwe</td>\n",
       "      <td>AFRO</td>\n",
       "      <td>452</td>\n",
       "      <td>121498</td>\n",
       "      <td>25</td>\n",
       "      <td>4181</td>\n",
       "    </tr>\n",
       "    <tr>\n",
       "      <th>141959</th>\n",
       "      <td>2021-08-20</td>\n",
       "      <td>ZW</td>\n",
       "      <td>Zimbabwe</td>\n",
       "      <td>AFRO</td>\n",
       "      <td>404</td>\n",
       "      <td>121902</td>\n",
       "      <td>17</td>\n",
       "      <td>4198</td>\n",
       "    </tr>\n",
       "    <tr>\n",
       "      <th>141960</th>\n",
       "      <td>2021-08-21</td>\n",
       "      <td>ZW</td>\n",
       "      <td>Zimbabwe</td>\n",
       "      <td>AFRO</td>\n",
       "      <td>386</td>\n",
       "      <td>122288</td>\n",
       "      <td>22</td>\n",
       "      <td>4220</td>\n",
       "    </tr>\n",
       "    <tr>\n",
       "      <th>141961</th>\n",
       "      <td>2021-08-22</td>\n",
       "      <td>ZW</td>\n",
       "      <td>Zimbabwe</td>\n",
       "      <td>AFRO</td>\n",
       "      <td>199</td>\n",
       "      <td>122487</td>\n",
       "      <td>16</td>\n",
       "      <td>4236</td>\n",
       "    </tr>\n",
       "    <tr>\n",
       "      <th>141962</th>\n",
       "      <td>2021-08-23</td>\n",
       "      <td>ZW</td>\n",
       "      <td>Zimbabwe</td>\n",
       "      <td>AFRO</td>\n",
       "      <td>165</td>\n",
       "      <td>122652</td>\n",
       "      <td>13</td>\n",
       "      <td>4249</td>\n",
       "    </tr>\n",
       "  </tbody>\n",
       "</table>\n",
       "<p>141963 rows × 8 columns</p>\n",
       "</div>"
      ],
      "text/plain": [
       "       Date_reported Country_code      Country WHO_region  New_cases  \\\n",
       "0         2020-01-03           AF  Afghanistan       EMRO          0   \n",
       "1         2020-01-04           AF  Afghanistan       EMRO          0   \n",
       "2         2020-01-05           AF  Afghanistan       EMRO          0   \n",
       "3         2020-01-06           AF  Afghanistan       EMRO          0   \n",
       "4         2020-01-07           AF  Afghanistan       EMRO          0   \n",
       "...              ...          ...          ...        ...        ...   \n",
       "141958    2021-08-19           ZW     Zimbabwe       AFRO        452   \n",
       "141959    2021-08-20           ZW     Zimbabwe       AFRO        404   \n",
       "141960    2021-08-21           ZW     Zimbabwe       AFRO        386   \n",
       "141961    2021-08-22           ZW     Zimbabwe       AFRO        199   \n",
       "141962    2021-08-23           ZW     Zimbabwe       AFRO        165   \n",
       "\n",
       "        Cumulative_cases  New_deaths  Cumulative_deaths  \n",
       "0                      0           0                  0  \n",
       "1                      0           0                  0  \n",
       "2                      0           0                  0  \n",
       "3                      0           0                  0  \n",
       "4                      0           0                  0  \n",
       "...                  ...         ...                ...  \n",
       "141958            121498          25               4181  \n",
       "141959            121902          17               4198  \n",
       "141960            122288          22               4220  \n",
       "141961            122487          16               4236  \n",
       "141962            122652          13               4249  \n",
       "\n",
       "[141963 rows x 8 columns]"
      ]
     },
     "execution_count": 8,
     "metadata": {},
     "output_type": "execute_result"
    }
   ],
   "source": [
    "df"
   ]
  },
  {
   "cell_type": "code",
   "execution_count": 9,
   "id": "1e6004db",
   "metadata": {},
   "outputs": [
    {
     "data": {
      "text/plain": [
       "RangeIndex(start=0, stop=141963, step=1)"
      ]
     },
     "execution_count": 9,
     "metadata": {},
     "output_type": "execute_result"
    }
   ],
   "source": [
    "df_index = df.index\n",
    "df_index"
   ]
  },
  {
   "cell_type": "code",
   "execution_count": 10,
   "id": "c6eadcd8",
   "metadata": {},
   "outputs": [
    {
     "data": {
      "text/plain": [
       "Index(['Date_reported', 'Country_code', 'Country', 'WHO_region', 'New_cases',\n",
       "       'Cumulative_cases', 'New_deaths', 'Cumulative_deaths'],\n",
       "      dtype='object')"
      ]
     },
     "execution_count": 10,
     "metadata": {},
     "output_type": "execute_result"
    }
   ],
   "source": [
    "df_cols = df.columns\n",
    "df_cols"
   ]
  },
  {
   "cell_type": "code",
   "execution_count": 11,
   "id": "b23a2214",
   "metadata": {},
   "outputs": [
    {
     "data": {
      "text/plain": [
       "array([     0,      1,      2, ..., 141960, 141961, 141962])"
      ]
     },
     "execution_count": 11,
     "metadata": {},
     "output_type": "execute_result"
    }
   ],
   "source": [
    "df.index.values"
   ]
  },
  {
   "cell_type": "code",
   "execution_count": 12,
   "id": "320ee843",
   "metadata": {},
   "outputs": [
    {
     "data": {
      "text/plain": [
       "array([['2020-01-03', 'AF', 'Afghanistan', ..., 0, 0, 0],\n",
       "       ['2020-01-04', 'AF', 'Afghanistan', ..., 0, 0, 0],\n",
       "       ['2020-01-05', 'AF', 'Afghanistan', ..., 0, 0, 0],\n",
       "       ...,\n",
       "       ['2021-08-21', 'ZW', 'Zimbabwe', ..., 122288, 22, 4220],\n",
       "       ['2021-08-22', 'ZW', 'Zimbabwe', ..., 122487, 16, 4236],\n",
       "       ['2021-08-23', 'ZW', 'Zimbabwe', ..., 122652, 13, 4249]],\n",
       "      dtype=object)"
      ]
     },
     "execution_count": 12,
     "metadata": {},
     "output_type": "execute_result"
    }
   ],
   "source": [
    "df.values"
   ]
  },
  {
   "cell_type": "code",
   "execution_count": 13,
   "id": "74f2ed7d",
   "metadata": {},
   "outputs": [
    {
     "data": {
      "text/plain": [
       "Date_reported        object\n",
       "Country_code         object\n",
       "Country              object\n",
       "WHO_region           object\n",
       "New_cases             int64\n",
       "Cumulative_cases      int64\n",
       "New_deaths            int64\n",
       "Cumulative_deaths     int64\n",
       "dtype: object"
      ]
     },
     "execution_count": 13,
     "metadata": {},
     "output_type": "execute_result"
    }
   ],
   "source": [
    "df.dtypes"
   ]
  },
  {
   "cell_type": "code",
   "execution_count": 14,
   "id": "cdeb1001",
   "metadata": {},
   "outputs": [
    {
     "data": {
      "text/plain": [
       "(141963, 8)"
      ]
     },
     "execution_count": 14,
     "metadata": {},
     "output_type": "execute_result"
    }
   ],
   "source": [
    " df.shape"
   ]
  },
  {
   "cell_type": "code",
   "execution_count": 15,
   "id": "b197a042",
   "metadata": {},
   "outputs": [
    {
     "name": "stdout",
     "output_type": "stream",
     "text": [
      "<class 'pandas.core.frame.DataFrame'>\n",
      "RangeIndex: 141963 entries, 0 to 141962\n",
      "Data columns (total 8 columns):\n",
      " #   Column             Non-Null Count   Dtype \n",
      "---  ------             --------------   ----- \n",
      " 0   Date_reported      141963 non-null  object\n",
      " 1   Country_code       141364 non-null  object\n",
      " 2   Country            141963 non-null  object\n",
      " 3   WHO_region         141963 non-null  object\n",
      " 4   New_cases          141963 non-null  int64 \n",
      " 5   Cumulative_cases   141963 non-null  int64 \n",
      " 6   New_deaths         141963 non-null  int64 \n",
      " 7   Cumulative_deaths  141963 non-null  int64 \n",
      "dtypes: int64(4), object(4)\n",
      "memory usage: 8.7+ MB\n"
     ]
    }
   ],
   "source": [
    "df.info()"
   ]
  },
  {
   "cell_type": "code",
   "execution_count": 16,
   "id": "12017360",
   "metadata": {},
   "outputs": [
    {
     "data": {
      "text/html": [
       "<div>\n",
       "<style scoped>\n",
       "    .dataframe tbody tr th:only-of-type {\n",
       "        vertical-align: middle;\n",
       "    }\n",
       "\n",
       "    .dataframe tbody tr th {\n",
       "        vertical-align: top;\n",
       "    }\n",
       "\n",
       "    .dataframe thead th {\n",
       "        text-align: right;\n",
       "    }\n",
       "</style>\n",
       "<table border=\"1\" class=\"dataframe\">\n",
       "  <thead>\n",
       "    <tr style=\"text-align: right;\">\n",
       "      <th></th>\n",
       "      <th>New_cases</th>\n",
       "      <th>Cumulative_cases</th>\n",
       "      <th>New_deaths</th>\n",
       "      <th>Cumulative_deaths</th>\n",
       "    </tr>\n",
       "  </thead>\n",
       "  <tbody>\n",
       "    <tr>\n",
       "      <th>count</th>\n",
       "      <td>141963.000000</td>\n",
       "      <td>1.419630e+05</td>\n",
       "      <td>141963.000000</td>\n",
       "      <td>141963.000000</td>\n",
       "    </tr>\n",
       "    <tr>\n",
       "      <th>mean</th>\n",
       "      <td>1491.445201</td>\n",
       "      <td>2.977732e+05</td>\n",
       "      <td>31.210224</td>\n",
       "      <td>6983.175602</td>\n",
       "    </tr>\n",
       "    <tr>\n",
       "      <th>std</th>\n",
       "      <td>9475.487824</td>\n",
       "      <td>1.796965e+06</td>\n",
       "      <td>171.159960</td>\n",
       "      <td>35779.464401</td>\n",
       "    </tr>\n",
       "    <tr>\n",
       "      <th>min</th>\n",
       "      <td>-32952.000000</td>\n",
       "      <td>0.000000e+00</td>\n",
       "      <td>-60.000000</td>\n",
       "      <td>0.000000</td>\n",
       "    </tr>\n",
       "    <tr>\n",
       "      <th>25%</th>\n",
       "      <td>0.000000</td>\n",
       "      <td>2.800000e+01</td>\n",
       "      <td>0.000000</td>\n",
       "      <td>0.000000</td>\n",
       "    </tr>\n",
       "    <tr>\n",
       "      <th>50%</th>\n",
       "      <td>10.000000</td>\n",
       "      <td>3.659000e+03</td>\n",
       "      <td>0.000000</td>\n",
       "      <td>58.000000</td>\n",
       "    </tr>\n",
       "    <tr>\n",
       "      <th>75%</th>\n",
       "      <td>337.000000</td>\n",
       "      <td>6.742300e+04</td>\n",
       "      <td>5.000000</td>\n",
       "      <td>1107.000000</td>\n",
       "    </tr>\n",
       "    <tr>\n",
       "      <th>max</th>\n",
       "      <td>414188.000000</td>\n",
       "      <td>3.740533e+07</td>\n",
       "      <td>8786.000000</td>\n",
       "      <td>622459.000000</td>\n",
       "    </tr>\n",
       "  </tbody>\n",
       "</table>\n",
       "</div>"
      ],
      "text/plain": [
       "           New_cases  Cumulative_cases     New_deaths  Cumulative_deaths\n",
       "count  141963.000000      1.419630e+05  141963.000000      141963.000000\n",
       "mean     1491.445201      2.977732e+05      31.210224        6983.175602\n",
       "std      9475.487824      1.796965e+06     171.159960       35779.464401\n",
       "min    -32952.000000      0.000000e+00     -60.000000           0.000000\n",
       "25%         0.000000      2.800000e+01       0.000000           0.000000\n",
       "50%        10.000000      3.659000e+03       0.000000          58.000000\n",
       "75%       337.000000      6.742300e+04       5.000000        1107.000000\n",
       "max    414188.000000      3.740533e+07    8786.000000      622459.000000"
      ]
     },
     "execution_count": 16,
     "metadata": {},
     "output_type": "execute_result"
    }
   ],
   "source": [
    "df.describe()"
   ]
  },
  {
   "cell_type": "code",
   "execution_count": 17,
   "id": "8481c482",
   "metadata": {},
   "outputs": [
    {
     "data": {
      "text/plain": [
       "0         Afghanistan\n",
       "1         Afghanistan\n",
       "2         Afghanistan\n",
       "3         Afghanistan\n",
       "4         Afghanistan\n",
       "             ...     \n",
       "141958       Zimbabwe\n",
       "141959       Zimbabwe\n",
       "141960       Zimbabwe\n",
       "141961       Zimbabwe\n",
       "141962       Zimbabwe\n",
       "Name: Country, Length: 141963, dtype: object"
      ]
     },
     "execution_count": 17,
     "metadata": {},
     "output_type": "execute_result"
    }
   ],
   "source": [
    "df[\"Country\"]"
   ]
  },
  {
   "cell_type": "code",
   "execution_count": 18,
   "id": "f2e8f373",
   "metadata": {},
   "outputs": [
    {
     "data": {
      "text/html": [
       "<div>\n",
       "<style scoped>\n",
       "    .dataframe tbody tr th:only-of-type {\n",
       "        vertical-align: middle;\n",
       "    }\n",
       "\n",
       "    .dataframe tbody tr th {\n",
       "        vertical-align: top;\n",
       "    }\n",
       "\n",
       "    .dataframe thead th {\n",
       "        text-align: right;\n",
       "    }\n",
       "</style>\n",
       "<table border=\"1\" class=\"dataframe\">\n",
       "  <thead>\n",
       "    <tr style=\"text-align: right;\">\n",
       "      <th></th>\n",
       "      <th>Date_reported</th>\n",
       "      <th>Country_code</th>\n",
       "      <th>Country</th>\n",
       "      <th>WHO_region</th>\n",
       "      <th>New_cases</th>\n",
       "      <th>Cumulative_cases</th>\n",
       "      <th>New_deaths</th>\n",
       "      <th>Cumulative_deaths</th>\n",
       "    </tr>\n",
       "  </thead>\n",
       "  <tbody>\n",
       "    <tr>\n",
       "      <th>141958</th>\n",
       "      <td>2021-08-19</td>\n",
       "      <td>ZW</td>\n",
       "      <td>Zimbabwe</td>\n",
       "      <td>AFRO</td>\n",
       "      <td>452</td>\n",
       "      <td>121498</td>\n",
       "      <td>25</td>\n",
       "      <td>4181</td>\n",
       "    </tr>\n",
       "    <tr>\n",
       "      <th>141959</th>\n",
       "      <td>2021-08-20</td>\n",
       "      <td>ZW</td>\n",
       "      <td>Zimbabwe</td>\n",
       "      <td>AFRO</td>\n",
       "      <td>404</td>\n",
       "      <td>121902</td>\n",
       "      <td>17</td>\n",
       "      <td>4198</td>\n",
       "    </tr>\n",
       "    <tr>\n",
       "      <th>141960</th>\n",
       "      <td>2021-08-21</td>\n",
       "      <td>ZW</td>\n",
       "      <td>Zimbabwe</td>\n",
       "      <td>AFRO</td>\n",
       "      <td>386</td>\n",
       "      <td>122288</td>\n",
       "      <td>22</td>\n",
       "      <td>4220</td>\n",
       "    </tr>\n",
       "    <tr>\n",
       "      <th>141961</th>\n",
       "      <td>2021-08-22</td>\n",
       "      <td>ZW</td>\n",
       "      <td>Zimbabwe</td>\n",
       "      <td>AFRO</td>\n",
       "      <td>199</td>\n",
       "      <td>122487</td>\n",
       "      <td>16</td>\n",
       "      <td>4236</td>\n",
       "    </tr>\n",
       "    <tr>\n",
       "      <th>141962</th>\n",
       "      <td>2021-08-23</td>\n",
       "      <td>ZW</td>\n",
       "      <td>Zimbabwe</td>\n",
       "      <td>AFRO</td>\n",
       "      <td>165</td>\n",
       "      <td>122652</td>\n",
       "      <td>13</td>\n",
       "      <td>4249</td>\n",
       "    </tr>\n",
       "  </tbody>\n",
       "</table>\n",
       "</div>"
      ],
      "text/plain": [
       "       Date_reported Country_code   Country WHO_region  New_cases  \\\n",
       "141958    2021-08-19           ZW  Zimbabwe       AFRO        452   \n",
       "141959    2021-08-20           ZW  Zimbabwe       AFRO        404   \n",
       "141960    2021-08-21           ZW  Zimbabwe       AFRO        386   \n",
       "141961    2021-08-22           ZW  Zimbabwe       AFRO        199   \n",
       "141962    2021-08-23           ZW  Zimbabwe       AFRO        165   \n",
       "\n",
       "        Cumulative_cases  New_deaths  Cumulative_deaths  \n",
       "141958            121498          25               4181  \n",
       "141959            121902          17               4198  \n",
       "141960            122288          22               4220  \n",
       "141961            122487          16               4236  \n",
       "141962            122652          13               4249  "
      ]
     },
     "execution_count": 18,
     "metadata": {},
     "output_type": "execute_result"
    }
   ],
   "source": [
    "df.tail()"
   ]
  },
  {
   "cell_type": "code",
   "execution_count": 19,
   "id": "7a999400",
   "metadata": {},
   "outputs": [],
   "source": [
    "df['Date_reported'] = pd.to_datetime(df['Date_reported'], format='%Y-%m-%d')"
   ]
  },
  {
   "cell_type": "code",
   "execution_count": 20,
   "id": "324d362d",
   "metadata": {},
   "outputs": [],
   "source": [
    "plot_data20 = df.loc[(df.Country == 'United States of America') & (df.Date_reported > '2020-01-01') & (df.Date_reported < '2021-01-01')]"
   ]
  },
  {
   "cell_type": "code",
   "execution_count": 21,
   "id": "65bc7805",
   "metadata": {},
   "outputs": [],
   "source": [
    "plot_data21 = df.loc[(df.Country == 'United States of America') & (df.Date_reported > '2021-01-01')]"
   ]
  },
  {
   "cell_type": "code",
   "execution_count": 22,
   "id": "67eddd88",
   "metadata": {},
   "outputs": [],
   "source": [
    "plot_data20 = plot_data20[['Date_reported', 'Country', 'New_cases']]"
   ]
  },
  {
   "cell_type": "code",
   "execution_count": 23,
   "id": "cc307522",
   "metadata": {},
   "outputs": [],
   "source": [
    "plot_data21 = plot_data21[['Date_reported', 'Country', 'New_cases']]"
   ]
  },
  {
   "cell_type": "code",
   "execution_count": 24,
   "id": "0d552c5e",
   "metadata": {},
   "outputs": [
    {
     "data": {
      "text/plain": [
       "<AxesSubplot:>"
      ]
     },
     "execution_count": 24,
     "metadata": {},
     "output_type": "execute_result"
    },
    {
     "data": {
      "image/png": "[encoded data removed]",
      "text/plain": [
       "<Figure size 432x288 with 1 Axes>"
      ]
     },
     "metadata": {
      "needs_background": "light"
     },
     "output_type": "display_data"
    }
   ],
   "source": [
    "plot_data20.plot()"
   ]
  },
  {
   "cell_type": "code",
   "execution_count": 25,
   "id": "b8e55bfb",
   "metadata": {},
   "outputs": [
    {
     "data": {
      "text/plain": [
       "<AxesSubplot:>"
      ]
     },
     "execution_count": 25,
     "metadata": {},
     "output_type": "execute_result"
    },
    {
     "data": {
      "image/png": "[encoded data removed]",
      "text/plain": [
       "<Figure size 432x288 with 1 Axes>"
      ]
     },
     "metadata": {
      "needs_background": "light"
     },
     "output_type": "display_data"
    }
   ],
   "source": [
    "plot_data21.plot()"
   ]
  },
  {
   "cell_type": "code",
   "execution_count": 27,
   "id": "f7931ab8",
   "metadata": {},
   "outputs": [
    {
     "data": {
      "text/plain": [
       "'Using both the graphs we can conclude that the most cases in a day was reported in 2021 which was the peak of \\nthe COVID'"
      ]
     },
     "execution_count": 27,
     "metadata": {},
     "output_type": "execute_result"
    }
   ],
   "source": [
    "'''Using both the graphs we can conclude that the most cases in a day was reported in 2021 which was the peak of \n",
    "the COVID. Additionally, it can be seen that the COVID cases are once again on the rise as we can start to see \n",
    "the graph going up. It is safe to conclude that we need to start taking precautions again to prevent COVID from \n",
    "spreading from seeing what the graph is showing us.'''"
   ]
  }
 ],
 "metadata": {
  "kernelspec": {
   "display_name": "Python 3",
   "language": "python",
   "name": "python3"
  },
  "language_info": {
   "codemirror_mode": {
    "name": "ipython",
    "version": 3
   },
   "file_extension": ".py",
   "mimetype": "text/x-python",
   "name": "python",
   "nbconvert_exporter": "python",
   "pygments_lexer": "ipython3",
   "version": "3.8.8"
  }
 },
 "nbformat": 4,
 "nbformat_minor": 5
}
